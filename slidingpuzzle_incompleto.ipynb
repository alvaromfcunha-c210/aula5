{
 "cells": [
  {
   "attachments": {},
   "cell_type": "markdown",
   "metadata": {},
   "source": [
    "# Resolvendo o problema: Sliding Puzzle\n",
    "\n",
    "<img src='imagens/1.gif' alt='1' width='300' height='300'>"
   ]
  },
  {
   "attachments": {},
   "cell_type": "markdown",
   "metadata": {},
   "source": [
    "### Criação do problema:"
   ]
  },
  {
   "cell_type": "code",
   "execution_count": null,
   "metadata": {},
   "outputs": [],
   "source": [
    "import numpy as np\n",
    "\n",
    "class SlidingPuzzle:\n",
    "  def __init__(self, _):\n",
    "    self._ = _\n",
    "\n",
    "  def _(self, _, _):\n",
    "    pass\n",
    "\n",
    "  def _(self, _, _):\n",
    "    pass\n",
    "\n",
    "  def _(self, _):\n",
    "    _ = _\n",
    "\n",
    "    _, _ = self._(_, _)\n",
    "\n",
    "    # Cima\n",
    "    if _:\n",
    "      pass\n",
    "\n",
    "    # Baixo\n",
    "    if _:\n",
    "      pass\n",
    "\n",
    "    # Esquerda\n",
    "    if _:\n",
    "      pass\n",
    "\n",
    "    # Direita\n",
    "    if _:\n",
    "      pass\n",
    "\n",
    "    return _"
   ]
  },
  {
   "attachments": {},
   "cell_type": "markdown",
   "metadata": {},
   "source": [
    "### Usando busca em largura (BFS):\n",
    "\n",
    "<img src='imagens/2.gif' alt='2' width='300' height='300'>"
   ]
  },
  {
   "cell_type": "code",
   "execution_count": null,
   "metadata": {},
   "outputs": [],
   "source": [
    "from _ import _\n",
    "\n",
    "class BreadthFirstSearch:\n",
    "  def __init__(self, _: _):\n",
    "    self._ = _\n",
    "  \n",
    "  def _(self, _, _):\n",
    "    pass\n",
    "\n",
    "  def _(self, _, _):\n",
    "    _ = _()\n",
    "    _._(_)\n",
    "\n",
    "    _ = _\n",
    "    _ = _\n",
    "    _ = _\n",
    "\n",
    "    while not _._():\n",
    "      _ = _._()\n",
    "\n",
    "      _._(_)\n",
    "\n",
    "      if self._._(_, _):\n",
    "        _ = _\n",
    "        break\n",
    "      else:\n",
    "        _ += _\n",
    "\n",
    "        _ = self._._(+)\n",
    "        for i in _:\n",
    "          if not self._(i, _):\n",
    "            _._(i)\n",
    "\n",
    "    return _, _, _"
   ]
  },
  {
   "cell_type": "code",
   "execution_count": null,
   "metadata": {},
   "outputs": [],
   "source": [
    "_ = SlidingPuzzle(_)\n",
    "_ = BreadthFirstSearch(_)\n",
    "\n",
    "inicio = np.array([[2, 8, 3],\n",
    "                    [1, 6, 4],\n",
    "                    [7, 0, 5]])\n",
    "\n",
    "alvo = np.array([[1, 2, 3],\n",
    "                  [8, 0, 4],\n",
    "                  [7, 6, 5]])\n",
    "\n",
    "solucao, visitados, passos = _._(_, _)\n",
    "\n",
    "print(f'Solução encontrada? {solucao}' + '\\n',\n",
    "      f'Estados visitados: {visitados}' + '\\n',\n",
    "      f'Quantidade de passos: {passos}')\n"
   ]
  },
  {
   "attachments": {},
   "cell_type": "markdown",
   "metadata": {},
   "source": [
    "### Usando busca em profundidade (DFS):\n",
    "\n",
    "<img src='imagens/3.gif' alt='3' width='300' height='300'>"
   ]
  },
  {
   "cell_type": "code",
   "execution_count": null,
   "metadata": {},
   "outputs": [],
   "source": [
    "from _ import _\n",
    "\n",
    "class DepthFirstSearch:\n",
    "  def __init__(self, _: _):\n",
    "    self._ = _\n",
    "  \n",
    "  def _(self, _, _):\n",
    "    pass\n",
    "\n",
    "  def _(self, _, _):\n",
    "    _ = _()\n",
    "    _._(_)\n",
    "\n",
    "    _ = _\n",
    "    _ = _\n",
    "    _ = _\n",
    "\n",
    "    while not _._():\n",
    "      _ = _._()\n",
    "\n",
    "      _._(_)\n",
    "\n",
    "      if self._._(_, _):\n",
    "        _ = _\n",
    "        break\n",
    "      else:\n",
    "        _ += _\n",
    "\n",
    "        _ = self._._(+)\n",
    "        for i in _:\n",
    "          if not self._(i, _):\n",
    "            _._(i)\n",
    "\n",
    "    return _, _, _"
   ]
  },
  {
   "cell_type": "code",
   "execution_count": null,
   "metadata": {},
   "outputs": [],
   "source": [
    "_ = DepthFirstSearch(_)\n",
    "\n",
    "solucao, visitados, passos = _._(_, _)\n",
    "\n",
    "print(f'Solução encontrada? {solucao}' + '\\n',\n",
    "      f'Estados visitados: {visitados}' + '\\n',\n",
    "      f'Quantidade de passos: {passos}')"
   ]
  }
 ],
 "metadata": {
  "kernelspec": {
   "display_name": "Python 3",
   "language": "python",
   "name": "python3"
  },
  "language_info": {
   "name": "python",
   "version": "3.9.2"
  },
  "orig_nbformat": 4
 },
 "nbformat": 4,
 "nbformat_minor": 2
}
